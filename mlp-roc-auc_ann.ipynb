{
 "cells": [
  {
   "cell_type": "code",
   "execution_count": 1,
   "metadata": {
    "_cell_guid": "b1076dfc-b9ad-4769-8c92-a6c4dae69d19",
    "_uuid": "8f2839f25d086af736a60e9eeb907d3b93b6e0e5",
    "execution": {
     "iopub.execute_input": "2020-12-18T21:39:15.721458Z",
     "iopub.status.busy": "2020-12-18T21:39:15.720513Z",
     "iopub.status.idle": "2020-12-18T21:39:15.726499Z",
     "shell.execute_reply": "2020-12-18T21:39:15.725915Z"
    },
    "papermill": {
     "duration": 0.058652,
     "end_time": "2020-12-18T21:39:15.726663",
     "exception": false,
     "start_time": "2020-12-18T21:39:15.668011",
     "status": "completed"
    },
    "tags": []
   },
   "outputs": [],
   "source": [
    "\n",
    "import numpy as np # linear algebra\n",
    "import pandas as pd # data processing, CSV file I/O (e.g. pd.read_csv)\n",
    "import os"
   ]
  },
  {
   "cell_type": "code",
   "execution_count": 2,
   "metadata": {
    "_cell_guid": "79c7e3d0-c299-4dcb-8224-4455121ee9b0",
    "_uuid": "d629ff2d2480ee46fbb7e2d37f6b5fab8052498a",
    "execution": {
     "iopub.execute_input": "2020-12-18T21:39:15.819540Z",
     "iopub.status.busy": "2020-12-18T21:39:15.817006Z",
     "iopub.status.idle": "2020-12-18T21:39:15.822851Z",
     "shell.execute_reply": "2020-12-18T21:39:15.823423Z"
    },
    "papermill": {
     "duration": 0.054846,
     "end_time": "2020-12-18T21:39:15.823582",
     "exception": false,
     "start_time": "2020-12-18T21:39:15.768736",
     "status": "completed"
    },
    "tags": []
   },
   "outputs": [],
   "source": [
    "# os.listdir()"
   ]
  },
  {
   "cell_type": "code",
   "execution_count": 3,
   "metadata": {
    "execution": {
     "iopub.execute_input": "2020-12-18T21:39:15.913375Z",
     "iopub.status.busy": "2020-12-18T21:39:15.912553Z",
     "iopub.status.idle": "2020-12-18T21:39:15.918123Z",
     "shell.execute_reply": "2020-12-18T21:39:15.917388Z"
    },
    "papermill": {
     "duration": 0.051231,
     "end_time": "2020-12-18T21:39:15.918255",
     "exception": false,
     "start_time": "2020-12-18T21:39:15.867024",
     "status": "completed"
    },
    "tags": []
   },
   "outputs": [],
   "source": [
    "from warnings import filterwarnings\n",
    "filterwarnings('ignore')"
   ]
  },
  {
   "cell_type": "markdown",
   "metadata": {
    "papermill": {
     "duration": 0.042305,
     "end_time": "2020-12-18T21:39:16.003189",
     "exception": false,
     "start_time": "2020-12-18T21:39:15.960884",
     "status": "completed"
    },
    "tags": []
   },
   "source": [
    "## Data Read"
   ]
  },
  {
   "cell_type": "code",
   "execution_count": 4,
   "metadata": {
    "execution": {
     "iopub.execute_input": "2020-12-18T21:39:16.090381Z",
     "iopub.status.busy": "2020-12-18T21:39:16.089687Z",
     "iopub.status.idle": "2020-12-18T21:39:16.170281Z",
     "shell.execute_reply": "2020-12-18T21:39:16.169441Z"
    },
    "papermill": {
     "duration": 0.124245,
     "end_time": "2020-12-18T21:39:16.170424",
     "exception": false,
     "start_time": "2020-12-18T21:39:16.046179",
     "status": "completed"
    },
    "tags": []
   },
   "outputs": [],
   "source": [
    "df=pd.read_csv(\"Mice Protein Expression.csv\")"
   ]
  },
  {
   "cell_type": "code",
   "execution_count": 5,
   "metadata": {
    "execution": {
     "iopub.execute_input": "2020-12-18T21:39:16.304747Z",
     "iopub.status.busy": "2020-12-18T21:39:16.303945Z",
     "iopub.status.idle": "2020-12-18T21:39:16.326832Z",
     "shell.execute_reply": "2020-12-18T21:39:16.325780Z"
    },
    "papermill": {
     "duration": 0.113757,
     "end_time": "2020-12-18T21:39:16.326972",
     "exception": false,
     "start_time": "2020-12-18T21:39:16.213215",
     "status": "completed"
    },
    "tags": []
   },
   "outputs": [
    {
     "data": {
      "text/html": [
       "<div>\n",
       "<style scoped>\n",
       "    .dataframe tbody tr th:only-of-type {\n",
       "        vertical-align: middle;\n",
       "    }\n",
       "\n",
       "    .dataframe tbody tr th {\n",
       "        vertical-align: top;\n",
       "    }\n",
       "\n",
       "    .dataframe thead th {\n",
       "        text-align: right;\n",
       "    }\n",
       "</style>\n",
       "<table border=\"1\" class=\"dataframe\">\n",
       "  <thead>\n",
       "    <tr style=\"text-align: right;\">\n",
       "      <th></th>\n",
       "      <th>MouseID</th>\n",
       "      <th>DYRK1A_N</th>\n",
       "      <th>ITSN1_N</th>\n",
       "      <th>BDNF_N</th>\n",
       "      <th>NR1_N</th>\n",
       "      <th>NR2A_N</th>\n",
       "      <th>pAKT_N</th>\n",
       "      <th>pBRAF_N</th>\n",
       "      <th>pCAMKII_N</th>\n",
       "      <th>pCREB_N</th>\n",
       "      <th>...</th>\n",
       "      <th>pCFOS_N</th>\n",
       "      <th>SYP_N</th>\n",
       "      <th>H3AcK18_N</th>\n",
       "      <th>EGR1_N</th>\n",
       "      <th>H3MeK4_N</th>\n",
       "      <th>CaNA_N</th>\n",
       "      <th>Genotype</th>\n",
       "      <th>Treatment</th>\n",
       "      <th>Behavior</th>\n",
       "      <th>class</th>\n",
       "    </tr>\n",
       "  </thead>\n",
       "  <tbody>\n",
       "    <tr>\n",
       "      <th>0</th>\n",
       "      <td>309_1</td>\n",
       "      <td>0.503644</td>\n",
       "      <td>0.747193</td>\n",
       "      <td>0.430175</td>\n",
       "      <td>2.816329</td>\n",
       "      <td>5.990152</td>\n",
       "      <td>0.218830</td>\n",
       "      <td>0.177565</td>\n",
       "      <td>2.373744</td>\n",
       "      <td>0.232224</td>\n",
       "      <td>...</td>\n",
       "      <td>0.108336</td>\n",
       "      <td>0.427099</td>\n",
       "      <td>0.114783</td>\n",
       "      <td>0.131790</td>\n",
       "      <td>0.128186</td>\n",
       "      <td>1.675652</td>\n",
       "      <td>Control</td>\n",
       "      <td>Memantine</td>\n",
       "      <td>C/S</td>\n",
       "      <td>c-CS-m</td>\n",
       "    </tr>\n",
       "    <tr>\n",
       "      <th>1</th>\n",
       "      <td>309_2</td>\n",
       "      <td>0.514617</td>\n",
       "      <td>0.689064</td>\n",
       "      <td>0.411770</td>\n",
       "      <td>2.789514</td>\n",
       "      <td>5.685038</td>\n",
       "      <td>0.211636</td>\n",
       "      <td>0.172817</td>\n",
       "      <td>2.292150</td>\n",
       "      <td>0.226972</td>\n",
       "      <td>...</td>\n",
       "      <td>0.104315</td>\n",
       "      <td>0.441581</td>\n",
       "      <td>0.111974</td>\n",
       "      <td>0.135103</td>\n",
       "      <td>0.131119</td>\n",
       "      <td>1.743610</td>\n",
       "      <td>Control</td>\n",
       "      <td>Memantine</td>\n",
       "      <td>C/S</td>\n",
       "      <td>c-CS-m</td>\n",
       "    </tr>\n",
       "    <tr>\n",
       "      <th>2</th>\n",
       "      <td>309_3</td>\n",
       "      <td>0.509183</td>\n",
       "      <td>0.730247</td>\n",
       "      <td>0.418309</td>\n",
       "      <td>2.687201</td>\n",
       "      <td>5.622059</td>\n",
       "      <td>0.209011</td>\n",
       "      <td>0.175722</td>\n",
       "      <td>2.283337</td>\n",
       "      <td>0.230247</td>\n",
       "      <td>...</td>\n",
       "      <td>0.106219</td>\n",
       "      <td>0.435777</td>\n",
       "      <td>0.111883</td>\n",
       "      <td>0.133362</td>\n",
       "      <td>0.127431</td>\n",
       "      <td>1.926427</td>\n",
       "      <td>Control</td>\n",
       "      <td>Memantine</td>\n",
       "      <td>C/S</td>\n",
       "      <td>c-CS-m</td>\n",
       "    </tr>\n",
       "    <tr>\n",
       "      <th>3</th>\n",
       "      <td>309_4</td>\n",
       "      <td>0.442107</td>\n",
       "      <td>0.617076</td>\n",
       "      <td>0.358626</td>\n",
       "      <td>2.466947</td>\n",
       "      <td>4.979503</td>\n",
       "      <td>0.222886</td>\n",
       "      <td>0.176463</td>\n",
       "      <td>2.152301</td>\n",
       "      <td>0.207004</td>\n",
       "      <td>...</td>\n",
       "      <td>0.111262</td>\n",
       "      <td>0.391691</td>\n",
       "      <td>0.130405</td>\n",
       "      <td>0.147444</td>\n",
       "      <td>0.146901</td>\n",
       "      <td>1.700563</td>\n",
       "      <td>Control</td>\n",
       "      <td>Memantine</td>\n",
       "      <td>C/S</td>\n",
       "      <td>c-CS-m</td>\n",
       "    </tr>\n",
       "    <tr>\n",
       "      <th>4</th>\n",
       "      <td>309_5</td>\n",
       "      <td>0.434940</td>\n",
       "      <td>0.617430</td>\n",
       "      <td>0.358802</td>\n",
       "      <td>2.365785</td>\n",
       "      <td>4.718679</td>\n",
       "      <td>0.213106</td>\n",
       "      <td>0.173627</td>\n",
       "      <td>2.134014</td>\n",
       "      <td>0.192158</td>\n",
       "      <td>...</td>\n",
       "      <td>0.110694</td>\n",
       "      <td>0.434154</td>\n",
       "      <td>0.118481</td>\n",
       "      <td>0.140314</td>\n",
       "      <td>0.148380</td>\n",
       "      <td>1.839730</td>\n",
       "      <td>Control</td>\n",
       "      <td>Memantine</td>\n",
       "      <td>C/S</td>\n",
       "      <td>c-CS-m</td>\n",
       "    </tr>\n",
       "  </tbody>\n",
       "</table>\n",
       "<p>5 rows × 82 columns</p>\n",
       "</div>"
      ],
      "text/plain": [
       "  MouseID  DYRK1A_N   ITSN1_N    BDNF_N     NR1_N    NR2A_N    pAKT_N  \\\n",
       "0   309_1  0.503644  0.747193  0.430175  2.816329  5.990152  0.218830   \n",
       "1   309_2  0.514617  0.689064  0.411770  2.789514  5.685038  0.211636   \n",
       "2   309_3  0.509183  0.730247  0.418309  2.687201  5.622059  0.209011   \n",
       "3   309_4  0.442107  0.617076  0.358626  2.466947  4.979503  0.222886   \n",
       "4   309_5  0.434940  0.617430  0.358802  2.365785  4.718679  0.213106   \n",
       "\n",
       "    pBRAF_N  pCAMKII_N   pCREB_N  ...   pCFOS_N     SYP_N  H3AcK18_N  \\\n",
       "0  0.177565   2.373744  0.232224  ...  0.108336  0.427099   0.114783   \n",
       "1  0.172817   2.292150  0.226972  ...  0.104315  0.441581   0.111974   \n",
       "2  0.175722   2.283337  0.230247  ...  0.106219  0.435777   0.111883   \n",
       "3  0.176463   2.152301  0.207004  ...  0.111262  0.391691   0.130405   \n",
       "4  0.173627   2.134014  0.192158  ...  0.110694  0.434154   0.118481   \n",
       "\n",
       "     EGR1_N  H3MeK4_N    CaNA_N  Genotype  Treatment  Behavior   class  \n",
       "0  0.131790  0.128186  1.675652   Control  Memantine       C/S  c-CS-m  \n",
       "1  0.135103  0.131119  1.743610   Control  Memantine       C/S  c-CS-m  \n",
       "2  0.133362  0.127431  1.926427   Control  Memantine       C/S  c-CS-m  \n",
       "3  0.147444  0.146901  1.700563   Control  Memantine       C/S  c-CS-m  \n",
       "4  0.140314  0.148380  1.839730   Control  Memantine       C/S  c-CS-m  \n",
       "\n",
       "[5 rows x 82 columns]"
      ]
     },
     "execution_count": 5,
     "metadata": {},
     "output_type": "execute_result"
    }
   ],
   "source": [
    "df.head()"
   ]
  },
  {
   "cell_type": "code",
   "execution_count": 6,
   "metadata": {
    "execution": {
     "iopub.execute_input": "2020-12-18T21:39:16.419375Z",
     "iopub.status.busy": "2020-12-18T21:39:16.418470Z",
     "iopub.status.idle": "2020-12-18T21:39:16.482376Z",
     "shell.execute_reply": "2020-12-18T21:39:16.481635Z"
    },
    "papermill": {
     "duration": 0.112809,
     "end_time": "2020-12-18T21:39:16.482517",
     "exception": false,
     "start_time": "2020-12-18T21:39:16.369708",
     "status": "completed"
    },
    "tags": []
   },
   "outputs": [],
   "source": [
    "# replace to '?' to np.nan\n",
    "# so real missing values can be count\n",
    "mymap = {\"?\":np.NaN}\n",
    "\n",
    "df=df.applymap(lambda s: mymap.get(s) if s in mymap else s)"
   ]
  },
  {
   "cell_type": "code",
   "execution_count": 7,
   "metadata": {
    "execution": {
     "iopub.execute_input": "2020-12-18T21:39:16.589950Z",
     "iopub.status.busy": "2020-12-18T21:39:16.585190Z",
     "iopub.status.idle": "2020-12-18T21:39:16.595306Z",
     "shell.execute_reply": "2020-12-18T21:39:16.594637Z"
    },
    "papermill": {
     "duration": 0.068254,
     "end_time": "2020-12-18T21:39:16.595451",
     "exception": false,
     "start_time": "2020-12-18T21:39:16.527197",
     "status": "completed"
    },
    "tags": []
   },
   "outputs": [
    {
     "data": {
      "text/plain": [
       "BCL2_N       285\n",
       "H3MeK4_N     270\n",
       "BAD_N        213\n",
       "EGR1_N       210\n",
       "H3AcK18_N    180\n",
       "            ... \n",
       "nNOS_N         0\n",
       "Tau_N          0\n",
       "GFAP_N         0\n",
       "GluR3_N        0\n",
       "class          0\n",
       "Length: 82, dtype: int64"
      ]
     },
     "execution_count": 7,
     "metadata": {},
     "output_type": "execute_result"
    }
   ],
   "source": [
    "df.isnull().sum().sort_values(ascending=False) # missing datas can be observed"
   ]
  },
  {
   "cell_type": "code",
   "execution_count": 8,
   "metadata": {
    "execution": {
     "iopub.execute_input": "2020-12-18T21:39:16.702647Z",
     "iopub.status.busy": "2020-12-18T21:39:16.701224Z",
     "iopub.status.idle": "2020-12-18T21:39:16.734102Z",
     "shell.execute_reply": "2020-12-18T21:39:16.732856Z"
    },
    "papermill": {
     "duration": 0.092702,
     "end_time": "2020-12-18T21:39:16.734253",
     "exception": false,
     "start_time": "2020-12-18T21:39:16.641551",
     "status": "completed"
    },
    "tags": []
   },
   "outputs": [
    {
     "name": "stdout",
     "output_type": "stream",
     "text": [
      "<class 'pandas.core.frame.DataFrame'>\n",
      "RangeIndex: 1080 entries, 0 to 1079\n",
      "Data columns (total 82 columns):\n",
      " #   Column           Non-Null Count  Dtype  \n",
      "---  ------           --------------  -----  \n",
      " 0   MouseID          1080 non-null   object \n",
      " 1   DYRK1A_N         1077 non-null   float64\n",
      " 2   ITSN1_N          1077 non-null   float64\n",
      " 3   BDNF_N           1077 non-null   float64\n",
      " 4   NR1_N            1077 non-null   float64\n",
      " 5   NR2A_N           1077 non-null   float64\n",
      " 6   pAKT_N           1077 non-null   float64\n",
      " 7   pBRAF_N          1077 non-null   float64\n",
      " 8   pCAMKII_N        1077 non-null   float64\n",
      " 9   pCREB_N          1077 non-null   float64\n",
      " 10  pELK_N           1077 non-null   float64\n",
      " 11  pERK_N           1077 non-null   float64\n",
      " 12  pJNK_N           1077 non-null   float64\n",
      " 13  PKCA_N           1077 non-null   float64\n",
      " 14  pMEK_N           1077 non-null   float64\n",
      " 15  pNR1_N           1077 non-null   float64\n",
      " 16  pNR2A_N          1077 non-null   float64\n",
      " 17  pNR2B_N          1077 non-null   float64\n",
      " 18  pPKCAB_N         1077 non-null   float64\n",
      " 19  pRSK_N           1077 non-null   float64\n",
      " 20  AKT_N            1077 non-null   float64\n",
      " 21  BRAF_N           1077 non-null   float64\n",
      " 22  CAMKII_N         1077 non-null   float64\n",
      " 23  CREB_N           1077 non-null   float64\n",
      " 24  ELK_N            1062 non-null   float64\n",
      " 25  ERK_N            1077 non-null   float64\n",
      " 26  GSK3B_N          1077 non-null   float64\n",
      " 27  JNK_N            1077 non-null   float64\n",
      " 28  MEK_N            1073 non-null   float64\n",
      " 29  TRKA_N           1077 non-null   float64\n",
      " 30  RSK_N            1077 non-null   float64\n",
      " 31  APP_N            1077 non-null   float64\n",
      " 32  Bcatenin_N       1062 non-null   float64\n",
      " 33  SOD1_N           1077 non-null   float64\n",
      " 34  MTOR_N           1077 non-null   float64\n",
      " 35  P38_N            1077 non-null   float64\n",
      " 36  pMTOR_N          1077 non-null   float64\n",
      " 37  DSCR1_N          1077 non-null   float64\n",
      " 38  AMPKA_N          1077 non-null   float64\n",
      " 39  NR2B_N           1077 non-null   float64\n",
      " 40  pNUMB_N          1077 non-null   float64\n",
      " 41  RAPTOR_N         1077 non-null   float64\n",
      " 42  TIAM1_N          1077 non-null   float64\n",
      " 43  pP70S6_N         1077 non-null   float64\n",
      " 44  NUMB_N           1080 non-null   float64\n",
      " 45  P70S6_N          1080 non-null   float64\n",
      " 46  pGSK3B_N         1080 non-null   float64\n",
      " 47  pPKCG_N          1080 non-null   float64\n",
      " 48  CDK5_N           1080 non-null   float64\n",
      " 49  S6_N             1080 non-null   float64\n",
      " 50  ADARB1_N         1080 non-null   float64\n",
      " 51  AcetylH3K9_N     1080 non-null   float64\n",
      " 52  RRP1_N           1080 non-null   float64\n",
      " 53  BAX_N            1080 non-null   float64\n",
      " 54  ARC_N            1080 non-null   float64\n",
      " 55  ERBB4_N          1080 non-null   float64\n",
      " 56  nNOS_N           1080 non-null   float64\n",
      " 57  Tau_N            1080 non-null   float64\n",
      " 58  GFAP_N           1080 non-null   float64\n",
      " 59  GluR3_N          1080 non-null   float64\n",
      " 60  GluR4_N          1080 non-null   float64\n",
      " 61  IL1B_N           1080 non-null   float64\n",
      " 62  P3525_N          1080 non-null   float64\n",
      " 63  pCASP9_N         1080 non-null   float64\n",
      " 64  PSD95_N          1080 non-null   float64\n",
      " 65  SNCA_N           1080 non-null   float64\n",
      " 66  Ubiquitin_N      1080 non-null   float64\n",
      " 67  pGSK3B_Tyr216_N  1080 non-null   float64\n",
      " 68  SHH_N            1080 non-null   float64\n",
      " 69  BAD_N            867 non-null    float64\n",
      " 70  BCL2_N           795 non-null    float64\n",
      " 71  pS6_N            1080 non-null   float64\n",
      " 72  pCFOS_N          1005 non-null   float64\n",
      " 73  SYP_N            1080 non-null   float64\n",
      " 74  H3AcK18_N        900 non-null    float64\n",
      " 75  EGR1_N           870 non-null    float64\n",
      " 76  H3MeK4_N         810 non-null    float64\n",
      " 77  CaNA_N           1080 non-null   float64\n",
      " 78  Genotype         1080 non-null   object \n",
      " 79  Treatment        1080 non-null   object \n",
      " 80  Behavior         1080 non-null   object \n",
      " 81  class            1080 non-null   object \n",
      "dtypes: float64(77), object(5)\n",
      "memory usage: 692.0+ KB\n"
     ]
    }
   ],
   "source": [
    "df.info()"
   ]
  },
  {
   "cell_type": "code",
   "execution_count": 9,
   "metadata": {
    "execution": {
     "iopub.execute_input": "2020-12-18T21:39:16.833080Z",
     "iopub.status.busy": "2020-12-18T21:39:16.831702Z",
     "iopub.status.idle": "2020-12-18T21:39:16.839944Z",
     "shell.execute_reply": "2020-12-18T21:39:16.839069Z"
    },
    "papermill": {
     "duration": 0.06017,
     "end_time": "2020-12-18T21:39:16.840097",
     "exception": false,
     "start_time": "2020-12-18T21:39:16.779927",
     "status": "completed"
    },
    "tags": []
   },
   "outputs": [],
   "source": [
    "df=df.drop(['MouseID'],axis=1)"
   ]
  },
  {
   "cell_type": "code",
   "execution_count": 10,
   "metadata": {
    "execution": {
     "iopub.execute_input": "2020-12-18T21:39:16.943725Z",
     "iopub.status.busy": "2020-12-18T21:39:16.937792Z",
     "iopub.status.idle": "2020-12-18T21:39:16.952253Z",
     "shell.execute_reply": "2020-12-18T21:39:16.952996Z"
    },
    "papermill": {
     "duration": 0.068978,
     "end_time": "2020-12-18T21:39:16.953175",
     "exception": false,
     "start_time": "2020-12-18T21:39:16.884197",
     "status": "completed"
    },
    "tags": []
   },
   "outputs": [
    {
     "data": {
      "text/plain": [
       "Control    570\n",
       "Ts65Dn     510\n",
       "Name: Genotype, dtype: int64"
      ]
     },
     "execution_count": 10,
     "metadata": {},
     "output_type": "execute_result"
    }
   ],
   "source": [
    "df[\"Genotype\"] = df[\"Genotype\"].str.strip(\"'\")\n",
    "df[\"Genotype\"].value_counts() #Observations that are all values should be dropped"
   ]
  },
  {
   "cell_type": "code",
   "execution_count": 11,
   "metadata": {
    "execution": {
     "iopub.execute_input": "2020-12-18T21:39:17.045640Z",
     "iopub.status.busy": "2020-12-18T21:39:17.044833Z",
     "iopub.status.idle": "2020-12-18T21:39:17.061007Z",
     "shell.execute_reply": "2020-12-18T21:39:17.061585Z"
    },
    "papermill": {
     "duration": 0.064869,
     "end_time": "2020-12-18T21:39:17.061827",
     "exception": false,
     "start_time": "2020-12-18T21:39:16.996958",
     "status": "completed"
    },
    "tags": []
   },
   "outputs": [
    {
     "data": {
      "text/plain": [
       "Memantine    570\n",
       "Saline       510\n",
       "Name: Treatment, dtype: int64"
      ]
     },
     "execution_count": 11,
     "metadata": {},
     "output_type": "execute_result"
    }
   ],
   "source": [
    "df[\"Treatment\"] = df[\"Treatment\"].str.strip(\"'\")\n",
    "df[\"Treatment\"].value_counts() # Observations that are all values should be dropped"
   ]
  },
  {
   "cell_type": "code",
   "execution_count": 12,
   "metadata": {
    "execution": {
     "iopub.execute_input": "2020-12-18T21:39:17.157340Z",
     "iopub.status.busy": "2020-12-18T21:39:17.156468Z",
     "iopub.status.idle": "2020-12-18T21:39:17.173495Z",
     "shell.execute_reply": "2020-12-18T21:39:17.172873Z"
    },
    "papermill": {
     "duration": 0.066519,
     "end_time": "2020-12-18T21:39:17.173647",
     "exception": false,
     "start_time": "2020-12-18T21:39:17.107128",
     "status": "completed"
    },
    "tags": []
   },
   "outputs": [
    {
     "data": {
      "text/plain": [
       "S/C    555\n",
       "C/S    525\n",
       "Name: Behavior, dtype: int64"
      ]
     },
     "execution_count": 12,
     "metadata": {},
     "output_type": "execute_result"
    }
   ],
   "source": [
    "df[\"Behavior\"] = df[\"Behavior\"].str.strip(\"'\")\n",
    "df[\"Behavior\"].value_counts() # Observations that are all values should be dropped"
   ]
  },
  {
   "cell_type": "code",
   "execution_count": 13,
   "metadata": {
    "execution": {
     "iopub.execute_input": "2020-12-18T21:39:17.266337Z",
     "iopub.status.busy": "2020-12-18T21:39:17.265201Z",
     "iopub.status.idle": "2020-12-18T21:39:17.287261Z",
     "shell.execute_reply": "2020-12-18T21:39:17.288752Z"
    },
    "papermill": {
     "duration": 0.071512,
     "end_time": "2020-12-18T21:39:17.289040",
     "exception": false,
     "start_time": "2020-12-18T21:39:17.217528",
     "status": "completed"
    },
    "tags": []
   },
   "outputs": [
    {
     "data": {
      "text/plain": [
       "c-CS-m    150\n",
       "c-SC-m    150\n",
       "c-CS-s    135\n",
       "c-SC-s    135\n",
       "t-CS-m    135\n",
       "t-SC-m    135\n",
       "t-SC-s    135\n",
       "t-CS-s    105\n",
       "Name: class, dtype: int64"
      ]
     },
     "execution_count": 13,
     "metadata": {},
     "output_type": "execute_result"
    }
   ],
   "source": [
    "df[\"class\"] = df[\"class\"].str.strip(\"'\")\n",
    "df[\"class\"].value_counts() # Observations that are all values should be dropped"
   ]
  },
  {
   "cell_type": "code",
   "execution_count": 14,
   "metadata": {
    "execution": {
     "iopub.execute_input": "2020-12-18T21:39:17.406174Z",
     "iopub.status.busy": "2020-12-18T21:39:17.405228Z",
     "iopub.status.idle": "2020-12-18T21:39:17.420278Z",
     "shell.execute_reply": "2020-12-18T21:39:17.420908Z"
    },
    "papermill": {
     "duration": 0.06883,
     "end_time": "2020-12-18T21:39:17.421121",
     "exception": false,
     "start_time": "2020-12-18T21:39:17.352291",
     "status": "completed"
    },
    "tags": []
   },
   "outputs": [],
   "source": [
    "df[['Genotype']] = df[['Genotype']].replace(to_replace={'Control':1,'Ts65Dn':0})"
   ]
  },
  {
   "cell_type": "code",
   "execution_count": 15,
   "metadata": {
    "execution": {
     "iopub.execute_input": "2020-12-18T21:39:17.535359Z",
     "iopub.status.busy": "2020-12-18T21:39:17.534454Z",
     "iopub.status.idle": "2020-12-18T21:39:17.541764Z",
     "shell.execute_reply": "2020-12-18T21:39:17.541137Z"
    },
    "papermill": {
     "duration": 0.066977,
     "end_time": "2020-12-18T21:39:17.541915",
     "exception": false,
     "start_time": "2020-12-18T21:39:17.474938",
     "status": "completed"
    },
    "tags": []
   },
   "outputs": [],
   "source": [
    "df[['Treatment']] = df[['Treatment']].replace(to_replace={'Memantine':1,'Saline':0})"
   ]
  },
  {
   "cell_type": "code",
   "execution_count": 16,
   "metadata": {
    "execution": {
     "iopub.execute_input": "2020-12-18T21:39:17.664912Z",
     "iopub.status.busy": "2020-12-18T21:39:17.663969Z",
     "iopub.status.idle": "2020-12-18T21:39:17.670309Z",
     "shell.execute_reply": "2020-12-18T21:39:17.669669Z"
    },
    "papermill": {
     "duration": 0.075973,
     "end_time": "2020-12-18T21:39:17.670438",
     "exception": false,
     "start_time": "2020-12-18T21:39:17.594465",
     "status": "completed"
    },
    "tags": []
   },
   "outputs": [],
   "source": [
    "df[['Behavior']] = df[['Behavior']].replace(to_replace={'S/C':1,'C/S':0})"
   ]
  },
  {
   "cell_type": "code",
   "execution_count": 17,
   "metadata": {
    "execution": {
     "iopub.execute_input": "2020-12-18T21:39:17.766427Z",
     "iopub.status.busy": "2020-12-18T21:39:17.765531Z",
     "iopub.status.idle": "2020-12-18T21:39:17.771206Z",
     "shell.execute_reply": "2020-12-18T21:39:17.771823Z"
    },
    "papermill": {
     "duration": 0.056224,
     "end_time": "2020-12-18T21:39:17.772000",
     "exception": false,
     "start_time": "2020-12-18T21:39:17.715776",
     "status": "completed"
    },
    "tags": []
   },
   "outputs": [],
   "source": [
    "y=df['class']"
   ]
  },
  {
   "cell_type": "code",
   "execution_count": 18,
   "metadata": {
    "execution": {
     "iopub.execute_input": "2020-12-18T21:39:17.874978Z",
     "iopub.status.busy": "2020-12-18T21:39:17.873833Z",
     "iopub.status.idle": "2020-12-18T21:39:17.882608Z",
     "shell.execute_reply": "2020-12-18T21:39:17.883256Z"
    },
    "papermill": {
     "duration": 0.05811,
     "end_time": "2020-12-18T21:39:17.883430",
     "exception": false,
     "start_time": "2020-12-18T21:39:17.825320",
     "status": "completed"
    },
    "tags": []
   },
   "outputs": [],
   "source": [
    "df = df.drop([\"class\"], axis=1)"
   ]
  },
  {
   "cell_type": "code",
   "execution_count": 19,
   "metadata": {
    "execution": {
     "iopub.execute_input": "2020-12-18T21:39:17.982460Z",
     "iopub.status.busy": "2020-12-18T21:39:17.981259Z",
     "iopub.status.idle": "2020-12-18T21:39:17.987831Z",
     "shell.execute_reply": "2020-12-18T21:39:17.988439Z"
    },
    "papermill": {
     "duration": 0.05585,
     "end_time": "2020-12-18T21:39:17.988606",
     "exception": false,
     "start_time": "2020-12-18T21:39:17.932756",
     "status": "completed"
    },
    "tags": []
   },
   "outputs": [
    {
     "data": {
      "text/plain": [
       "(1080, 80)"
      ]
     },
     "execution_count": 19,
     "metadata": {},
     "output_type": "execute_result"
    }
   ],
   "source": [
    "df.shape"
   ]
  },
  {
   "cell_type": "code",
   "execution_count": 20,
   "metadata": {
    "execution": {
     "iopub.execute_input": "2020-12-18T21:39:18.084215Z",
     "iopub.status.busy": "2020-12-18T21:39:18.082716Z",
     "iopub.status.idle": "2020-12-18T21:39:18.098760Z",
     "shell.execute_reply": "2020-12-18T21:39:18.098081Z"
    },
    "papermill": {
     "duration": 0.064062,
     "end_time": "2020-12-18T21:39:18.098904",
     "exception": false,
     "start_time": "2020-12-18T21:39:18.034842",
     "status": "completed"
    },
    "tags": []
   },
   "outputs": [
    {
     "name": "stdout",
     "output_type": "stream",
     "text": [
      "1    570\n",
      "0    510\n",
      "Name: Genotype, dtype: int64\n",
      "1    570\n",
      "0    510\n",
      "Name: Treatment, dtype: int64\n",
      "1    555\n",
      "0    525\n",
      "Name: Behavior, dtype: int64\n"
     ]
    }
   ],
   "source": [
    "print(df[\"Genotype\"].value_counts())\n",
    "print(df[\"Treatment\"].value_counts())\n",
    "print(df[\"Behavior\"].value_counts())"
   ]
  },
  {
   "cell_type": "code",
   "execution_count": 21,
   "metadata": {
    "execution": {
     "iopub.execute_input": "2020-12-18T21:39:18.228979Z",
     "iopub.status.busy": "2020-12-18T21:39:18.204226Z",
     "iopub.status.idle": "2020-12-18T21:39:18.234793Z",
     "shell.execute_reply": "2020-12-18T21:39:18.235334Z"
    },
    "papermill": {
     "duration": 0.086475,
     "end_time": "2020-12-18T21:39:18.235521",
     "exception": false,
     "start_time": "2020-12-18T21:39:18.149046",
     "status": "completed"
    },
    "tags": []
   },
   "outputs": [],
   "source": [
    "df=df.apply(lambda x: x.astype(float))"
   ]
  },
  {
   "cell_type": "code",
   "execution_count": 22,
   "metadata": {
    "execution": {
     "iopub.execute_input": "2020-12-18T21:39:18.344478Z",
     "iopub.status.busy": "2020-12-18T21:39:18.343435Z",
     "iopub.status.idle": "2020-12-18T21:39:29.589777Z",
     "shell.execute_reply": "2020-12-18T21:39:29.589183Z"
    },
    "papermill": {
     "duration": 11.307657,
     "end_time": "2020-12-18T21:39:29.589916",
     "exception": false,
     "start_time": "2020-12-18T21:39:18.282259",
     "status": "completed"
    },
    "tags": []
   },
   "outputs": [
    {
     "name": "stdout",
     "output_type": "stream",
     "text": [
      "Requirement already satisfied: ycimpute==0.1.1 in c:\\users\\ragha\\anaconda3\\envs\\tf2.6\\lib\\site-packages (0.1.1)\n",
      "Requirement already satisfied: scikit-learn>=0.17.1 in c:\\users\\ragha\\anaconda3\\envs\\tf2.6\\lib\\site-packages (from ycimpute==0.1.1) (0.24.2)\n",
      "Requirement already satisfied: numpy>=1.10 in c:\\users\\ragha\\anaconda3\\envs\\tf2.6\\lib\\site-packages (from ycimpute==0.1.1) (1.19.5)\n",
      "Requirement already satisfied: scipy in c:\\users\\ragha\\anaconda3\\envs\\tf2.6\\lib\\site-packages (from ycimpute==0.1.1) (1.7.1)\n",
      "Requirement already satisfied: six in c:\\users\\ragha\\anaconda3\\envs\\tf2.6\\lib\\site-packages (from ycimpute==0.1.1) (1.15.0)\n",
      "Requirement already satisfied: threadpoolctl>=2.0.0 in c:\\users\\ragha\\anaconda3\\envs\\tf2.6\\lib\\site-packages (from scikit-learn>=0.17.1->ycimpute==0.1.1) (2.2.0)\n",
      "Requirement already satisfied: joblib>=0.11 in c:\\users\\ragha\\anaconda3\\envs\\tf2.6\\lib\\site-packages (from scikit-learn>=0.17.1->ycimpute==0.1.1) (1.0.1)\n"
     ]
    },
    {
     "name": "stderr",
     "output_type": "stream",
     "text": [
      "WARNING: Ignoring invalid distribution -rotobuf (c:\\users\\ragha\\anaconda3\\envs\\tf2.6\\lib\\site-packages)\n",
      "WARNING: Ignoring invalid distribution -pencv-python (c:\\users\\ragha\\anaconda3\\envs\\tf2.6\\lib\\site-packages)\n",
      "WARNING: Ignoring invalid distribution -rotobuf (c:\\users\\ragha\\anaconda3\\envs\\tf2.6\\lib\\site-packages)\n",
      "WARNING: Ignoring invalid distribution -pencv-python (c:\\users\\ragha\\anaconda3\\envs\\tf2.6\\lib\\site-packages)\n",
      "WARNING: Ignoring invalid distribution -rotobuf (c:\\users\\ragha\\anaconda3\\envs\\tf2.6\\lib\\site-packages)\n",
      "WARNING: Ignoring invalid distribution -pencv-python (c:\\users\\ragha\\anaconda3\\envs\\tf2.6\\lib\\site-packages)\n",
      "WARNING: Ignoring invalid distribution -rotobuf (c:\\users\\ragha\\anaconda3\\envs\\tf2.6\\lib\\site-packages)\n",
      "WARNING: Ignoring invalid distribution -pencv-python (c:\\users\\ragha\\anaconda3\\envs\\tf2.6\\lib\\site-packages)\n",
      "WARNING: Ignoring invalid distribution -rotobuf (c:\\users\\ragha\\anaconda3\\envs\\tf2.6\\lib\\site-packages)\n",
      "WARNING: Ignoring invalid distribution -pencv-python (c:\\users\\ragha\\anaconda3\\envs\\tf2.6\\lib\\site-packages)\n",
      "WARNING: Ignoring invalid distribution -rotobuf (c:\\users\\ragha\\anaconda3\\envs\\tf2.6\\lib\\site-packages)\n",
      "WARNING: Ignoring invalid distribution -pencv-python (c:\\users\\ragha\\anaconda3\\envs\\tf2.6\\lib\\site-packages)\n"
     ]
    }
   ],
   "source": [
    "!pip install ycimpute==0.1.1"
   ]
  },
  {
   "cell_type": "code",
   "execution_count": 23,
   "metadata": {
    "execution": {
     "iopub.execute_input": "2020-12-18T21:39:29.696439Z",
     "iopub.status.busy": "2020-12-18T21:39:29.695721Z",
     "iopub.status.idle": "2020-12-18T21:39:31.363309Z",
     "shell.execute_reply": "2020-12-18T21:39:31.362703Z"
    },
    "papermill": {
     "duration": 1.72398,
     "end_time": "2020-12-18T21:39:31.363445",
     "exception": false,
     "start_time": "2020-12-18T21:39:29.639465",
     "status": "completed"
    },
    "tags": []
   },
   "outputs": [],
   "source": [
    "from ycimpute.imputer import knnimput"
   ]
  },
  {
   "cell_type": "code",
   "execution_count": 24,
   "metadata": {
    "execution": {
     "iopub.execute_input": "2020-12-18T21:39:31.468442Z",
     "iopub.status.busy": "2020-12-18T21:39:31.467735Z",
     "iopub.status.idle": "2020-12-18T21:39:31.471519Z",
     "shell.execute_reply": "2020-12-18T21:39:31.470894Z"
    },
    "papermill": {
     "duration": 0.056528,
     "end_time": "2020-12-18T21:39:31.471669",
     "exception": false,
     "start_time": "2020-12-18T21:39:31.415141",
     "status": "completed"
    },
    "tags": []
   },
   "outputs": [],
   "source": [
    "var_names = list(df) # variable names are stored dataset will be converted to matrix so\n",
    "# We kept it in a list so that it doesn't get lost .."
   ]
  },
  {
   "cell_type": "code",
   "execution_count": 25,
   "metadata": {
    "execution": {
     "iopub.execute_input": "2020-12-18T21:39:31.572020Z",
     "iopub.status.busy": "2020-12-18T21:39:31.570922Z",
     "iopub.status.idle": "2020-12-18T21:39:31.576596Z",
     "shell.execute_reply": "2020-12-18T21:39:31.577235Z"
    },
    "papermill": {
     "duration": 0.056712,
     "end_time": "2020-12-18T21:39:31.577410",
     "exception": false,
     "start_time": "2020-12-18T21:39:31.520698",
     "status": "completed"
    },
    "tags": []
   },
   "outputs": [],
   "source": [
    "n_df = np.array(df) # Converted dataframe to Numpy array\n",
    "# Some libraries accept numpy array some DataFrame some all kinds"
   ]
  },
  {
   "cell_type": "code",
   "execution_count": 26,
   "metadata": {},
   "outputs": [
    {
     "data": {
      "text/plain": [
       "array([[0.50364388, 0.74719322, 0.4301753 , ..., 1.        , 1.        ,\n",
       "        0.        ],\n",
       "       [0.51461708, 0.68906355, 0.41177034, ..., 1.        , 1.        ,\n",
       "        0.        ],\n",
       "       [0.50918309, 0.7302468 , 0.41830878, ..., 1.        , 1.        ,\n",
       "        0.        ],\n",
       "       ...,\n",
       "       [0.22869955, 0.39517937, 0.23411809, ..., 0.        , 0.        ,\n",
       "        1.        ],\n",
       "       [0.22124241, 0.41289438, 0.24397413, ..., 0.        , 0.        ,\n",
       "        1.        ],\n",
       "       [0.30262572, 0.46105919, 0.25656431, ..., 0.        , 0.        ,\n",
       "        1.        ]])"
      ]
     },
     "execution_count": 26,
     "metadata": {},
     "output_type": "execute_result"
    }
   ],
   "source": [
    "n_df"
   ]
  },
  {
   "cell_type": "code",
   "execution_count": 27,
   "metadata": {
    "execution": {
     "iopub.execute_input": "2020-12-18T21:39:31.681130Z",
     "iopub.status.busy": "2020-12-18T21:39:31.680333Z",
     "iopub.status.idle": "2020-12-18T21:39:31.685534Z",
     "shell.execute_reply": "2020-12-18T21:39:31.684860Z"
    },
    "papermill": {
     "duration": 0.060969,
     "end_time": "2020-12-18T21:39:31.685680",
     "exception": false,
     "start_time": "2020-12-18T21:39:31.624711",
     "status": "completed"
    },
    "tags": []
   },
   "outputs": [
    {
     "data": {
      "text/plain": [
       "(1080, 80)"
      ]
     },
     "execution_count": 27,
     "metadata": {},
     "output_type": "execute_result"
    }
   ],
   "source": [
    "n_df.shape"
   ]
  },
  {
   "cell_type": "code",
   "execution_count": 28,
   "metadata": {
    "execution": {
     "iopub.execute_input": "2020-12-18T21:39:31.787492Z",
     "iopub.status.busy": "2020-12-18T21:39:31.786696Z",
     "iopub.status.idle": "2020-12-18T21:39:32.451576Z",
     "shell.execute_reply": "2020-12-18T21:39:32.450387Z"
    },
    "papermill": {
     "duration": 0.718304,
     "end_time": "2020-12-18T21:39:32.451791",
     "exception": false,
     "start_time": "2020-12-18T21:39:31.733487",
     "status": "completed"
    },
    "tags": []
   },
   "outputs": [
    {
     "name": "stdout",
     "output_type": "stream",
     "text": [
      "Imputing row 1/1080 with 1 missing, elapsed time: 0.340\n",
      "Imputing row 101/1080 with 0 missing, elapsed time: 0.342\n",
      "Imputing row 201/1080 with 3 missing, elapsed time: 0.345\n",
      "Imputing row 301/1080 with 2 missing, elapsed time: 0.348\n",
      "Imputing row 401/1080 with 0 missing, elapsed time: 0.350\n",
      "Imputing row 501/1080 with 0 missing, elapsed time: 0.352\n",
      "Imputing row 601/1080 with 4 missing, elapsed time: 0.354\n",
      "Imputing row 701/1080 with 0 missing, elapsed time: 0.355\n",
      "Imputing row 801/1080 with 2 missing, elapsed time: 0.358\n",
      "Imputing row 901/1080 with 0 missing, elapsed time: 0.360\n",
      "Imputing row 1001/1080 with 0 missing, elapsed time: 0.362\n"
     ]
    }
   ],
   "source": [
    "dff = knnimput.KNN(k=20).complete(n_df)\n",
    "# Filling in NaN expressions according to estimation of missing values in Array format"
   ]
  },
  {
   "cell_type": "code",
   "execution_count": 29,
   "metadata": {
    "execution": {
     "iopub.execute_input": "2020-12-18T21:39:32.565873Z",
     "iopub.status.busy": "2020-12-18T21:39:32.565086Z",
     "iopub.status.idle": "2020-12-18T21:39:32.568650Z",
     "shell.execute_reply": "2020-12-18T21:39:32.568039Z"
    },
    "papermill": {
     "duration": 0.06323,
     "end_time": "2020-12-18T21:39:32.568780",
     "exception": false,
     "start_time": "2020-12-18T21:39:32.505550",
     "status": "completed"
    },
    "tags": []
   },
   "outputs": [],
   "source": [
    "dff = pd.DataFrame(dff, columns = var_names) # Converting Array to Pandas DataFrame"
   ]
  },
  {
   "cell_type": "code",
   "execution_count": 30,
   "metadata": {
    "execution": {
     "iopub.execute_input": "2020-12-18T21:39:32.696573Z",
     "iopub.status.busy": "2020-12-18T21:39:32.695638Z",
     "iopub.status.idle": "2020-12-18T21:39:32.703268Z",
     "shell.execute_reply": "2020-12-18T21:39:32.702433Z"
    },
    "papermill": {
     "duration": 0.086192,
     "end_time": "2020-12-18T21:39:32.703414",
     "exception": false,
     "start_time": "2020-12-18T21:39:32.617222",
     "status": "completed"
    },
    "tags": []
   },
   "outputs": [
    {
     "data": {
      "text/html": [
       "<div>\n",
       "<style scoped>\n",
       "    .dataframe tbody tr th:only-of-type {\n",
       "        vertical-align: middle;\n",
       "    }\n",
       "\n",
       "    .dataframe tbody tr th {\n",
       "        vertical-align: top;\n",
       "    }\n",
       "\n",
       "    .dataframe thead th {\n",
       "        text-align: right;\n",
       "    }\n",
       "</style>\n",
       "<table border=\"1\" class=\"dataframe\">\n",
       "  <thead>\n",
       "    <tr style=\"text-align: right;\">\n",
       "      <th></th>\n",
       "      <th>DYRK1A_N</th>\n",
       "      <th>ITSN1_N</th>\n",
       "      <th>BDNF_N</th>\n",
       "      <th>NR1_N</th>\n",
       "      <th>NR2A_N</th>\n",
       "      <th>pAKT_N</th>\n",
       "      <th>pBRAF_N</th>\n",
       "      <th>pCAMKII_N</th>\n",
       "      <th>pCREB_N</th>\n",
       "      <th>pELK_N</th>\n",
       "      <th>...</th>\n",
       "      <th>pS6_N</th>\n",
       "      <th>pCFOS_N</th>\n",
       "      <th>SYP_N</th>\n",
       "      <th>H3AcK18_N</th>\n",
       "      <th>EGR1_N</th>\n",
       "      <th>H3MeK4_N</th>\n",
       "      <th>CaNA_N</th>\n",
       "      <th>Genotype</th>\n",
       "      <th>Treatment</th>\n",
       "      <th>Behavior</th>\n",
       "    </tr>\n",
       "  </thead>\n",
       "  <tbody>\n",
       "    <tr>\n",
       "      <th>0</th>\n",
       "      <td>0.503644</td>\n",
       "      <td>0.747193</td>\n",
       "      <td>0.430175</td>\n",
       "      <td>2.816329</td>\n",
       "      <td>5.990152</td>\n",
       "      <td>0.218830</td>\n",
       "      <td>0.177565</td>\n",
       "      <td>2.373744</td>\n",
       "      <td>0.232224</td>\n",
       "      <td>1.750936</td>\n",
       "      <td>...</td>\n",
       "      <td>0.106305</td>\n",
       "      <td>0.108336</td>\n",
       "      <td>0.427099</td>\n",
       "      <td>0.114783</td>\n",
       "      <td>0.131790</td>\n",
       "      <td>0.128186</td>\n",
       "      <td>1.675652</td>\n",
       "      <td>1.0</td>\n",
       "      <td>1.0</td>\n",
       "      <td>0.0</td>\n",
       "    </tr>\n",
       "    <tr>\n",
       "      <th>1</th>\n",
       "      <td>0.514617</td>\n",
       "      <td>0.689064</td>\n",
       "      <td>0.411770</td>\n",
       "      <td>2.789514</td>\n",
       "      <td>5.685038</td>\n",
       "      <td>0.211636</td>\n",
       "      <td>0.172817</td>\n",
       "      <td>2.292150</td>\n",
       "      <td>0.226972</td>\n",
       "      <td>1.596377</td>\n",
       "      <td>...</td>\n",
       "      <td>0.106592</td>\n",
       "      <td>0.104315</td>\n",
       "      <td>0.441581</td>\n",
       "      <td>0.111974</td>\n",
       "      <td>0.135103</td>\n",
       "      <td>0.131119</td>\n",
       "      <td>1.743610</td>\n",
       "      <td>1.0</td>\n",
       "      <td>1.0</td>\n",
       "      <td>0.0</td>\n",
       "    </tr>\n",
       "    <tr>\n",
       "      <th>2</th>\n",
       "      <td>0.509183</td>\n",
       "      <td>0.730247</td>\n",
       "      <td>0.418309</td>\n",
       "      <td>2.687201</td>\n",
       "      <td>5.622059</td>\n",
       "      <td>0.209011</td>\n",
       "      <td>0.175722</td>\n",
       "      <td>2.283337</td>\n",
       "      <td>0.230247</td>\n",
       "      <td>1.561316</td>\n",
       "      <td>...</td>\n",
       "      <td>0.108303</td>\n",
       "      <td>0.106219</td>\n",
       "      <td>0.435777</td>\n",
       "      <td>0.111883</td>\n",
       "      <td>0.133362</td>\n",
       "      <td>0.127431</td>\n",
       "      <td>1.926427</td>\n",
       "      <td>1.0</td>\n",
       "      <td>1.0</td>\n",
       "      <td>0.0</td>\n",
       "    </tr>\n",
       "    <tr>\n",
       "      <th>3</th>\n",
       "      <td>0.442107</td>\n",
       "      <td>0.617076</td>\n",
       "      <td>0.358626</td>\n",
       "      <td>2.466947</td>\n",
       "      <td>4.979503</td>\n",
       "      <td>0.222886</td>\n",
       "      <td>0.176463</td>\n",
       "      <td>2.152301</td>\n",
       "      <td>0.207004</td>\n",
       "      <td>1.595086</td>\n",
       "      <td>...</td>\n",
       "      <td>0.103184</td>\n",
       "      <td>0.111262</td>\n",
       "      <td>0.391691</td>\n",
       "      <td>0.130405</td>\n",
       "      <td>0.147444</td>\n",
       "      <td>0.146901</td>\n",
       "      <td>1.700563</td>\n",
       "      <td>1.0</td>\n",
       "      <td>1.0</td>\n",
       "      <td>0.0</td>\n",
       "    </tr>\n",
       "    <tr>\n",
       "      <th>4</th>\n",
       "      <td>0.434940</td>\n",
       "      <td>0.617430</td>\n",
       "      <td>0.358802</td>\n",
       "      <td>2.365785</td>\n",
       "      <td>4.718679</td>\n",
       "      <td>0.213106</td>\n",
       "      <td>0.173627</td>\n",
       "      <td>2.134014</td>\n",
       "      <td>0.192158</td>\n",
       "      <td>1.504230</td>\n",
       "      <td>...</td>\n",
       "      <td>0.104784</td>\n",
       "      <td>0.110694</td>\n",
       "      <td>0.434154</td>\n",
       "      <td>0.118481</td>\n",
       "      <td>0.140314</td>\n",
       "      <td>0.148380</td>\n",
       "      <td>1.839730</td>\n",
       "      <td>1.0</td>\n",
       "      <td>1.0</td>\n",
       "      <td>0.0</td>\n",
       "    </tr>\n",
       "  </tbody>\n",
       "</table>\n",
       "<p>5 rows × 80 columns</p>\n",
       "</div>"
      ],
      "text/plain": [
       "   DYRK1A_N   ITSN1_N    BDNF_N     NR1_N    NR2A_N    pAKT_N   pBRAF_N  \\\n",
       "0  0.503644  0.747193  0.430175  2.816329  5.990152  0.218830  0.177565   \n",
       "1  0.514617  0.689064  0.411770  2.789514  5.685038  0.211636  0.172817   \n",
       "2  0.509183  0.730247  0.418309  2.687201  5.622059  0.209011  0.175722   \n",
       "3  0.442107  0.617076  0.358626  2.466947  4.979503  0.222886  0.176463   \n",
       "4  0.434940  0.617430  0.358802  2.365785  4.718679  0.213106  0.173627   \n",
       "\n",
       "   pCAMKII_N   pCREB_N    pELK_N  ...     pS6_N   pCFOS_N     SYP_N  \\\n",
       "0   2.373744  0.232224  1.750936  ...  0.106305  0.108336  0.427099   \n",
       "1   2.292150  0.226972  1.596377  ...  0.106592  0.104315  0.441581   \n",
       "2   2.283337  0.230247  1.561316  ...  0.108303  0.106219  0.435777   \n",
       "3   2.152301  0.207004  1.595086  ...  0.103184  0.111262  0.391691   \n",
       "4   2.134014  0.192158  1.504230  ...  0.104784  0.110694  0.434154   \n",
       "\n",
       "   H3AcK18_N    EGR1_N  H3MeK4_N    CaNA_N  Genotype  Treatment  Behavior  \n",
       "0   0.114783  0.131790  0.128186  1.675652       1.0        1.0       0.0  \n",
       "1   0.111974  0.135103  0.131119  1.743610       1.0        1.0       0.0  \n",
       "2   0.111883  0.133362  0.127431  1.926427       1.0        1.0       0.0  \n",
       "3   0.130405  0.147444  0.146901  1.700563       1.0        1.0       0.0  \n",
       "4   0.118481  0.140314  0.148380  1.839730       1.0        1.0       0.0  \n",
       "\n",
       "[5 rows x 80 columns]"
      ]
     },
     "execution_count": 30,
     "metadata": {},
     "output_type": "execute_result"
    }
   ],
   "source": [
    "dff.head()"
   ]
  },
  {
   "cell_type": "code",
   "execution_count": 31,
   "metadata": {
    "execution": {
     "iopub.execute_input": "2020-12-18T21:39:32.816267Z",
     "iopub.status.busy": "2020-12-18T21:39:32.812665Z",
     "iopub.status.idle": "2020-12-18T21:39:32.821595Z",
     "shell.execute_reply": "2020-12-18T21:39:32.820888Z"
    },
    "papermill": {
     "duration": 0.065443,
     "end_time": "2020-12-18T21:39:32.821771",
     "exception": false,
     "start_time": "2020-12-18T21:39:32.756328",
     "status": "completed"
    },
    "tags": []
   },
   "outputs": [
    {
     "data": {
      "text/plain": [
       "DYRK1A_N    0\n",
       "ITSN1_N     0\n",
       "GluR3_N     0\n",
       "GFAP_N      0\n",
       "Tau_N       0\n",
       "           ..\n",
       "GSK3B_N     0\n",
       "ERK_N       0\n",
       "ELK_N       0\n",
       "CREB_N      0\n",
       "Behavior    0\n",
       "Length: 80, dtype: int64"
      ]
     },
     "execution_count": 31,
     "metadata": {},
     "output_type": "execute_result"
    }
   ],
   "source": [
    "dff.isnull().sum().sort_values(ascending=False) # There is no missing data left."
   ]
  },
  {
   "cell_type": "code",
   "execution_count": 32,
   "metadata": {
    "execution": {
     "iopub.execute_input": "2020-12-18T21:39:32.925944Z",
     "iopub.status.busy": "2020-12-18T21:39:32.925081Z",
     "iopub.status.idle": "2020-12-18T21:39:32.929056Z",
     "shell.execute_reply": "2020-12-18T21:39:32.928459Z"
    },
    "papermill": {
     "duration": 0.058698,
     "end_time": "2020-12-18T21:39:32.929190",
     "exception": false,
     "start_time": "2020-12-18T21:39:32.870492",
     "status": "completed"
    },
    "tags": []
   },
   "outputs": [],
   "source": [
    "df=dff"
   ]
  },
  {
   "cell_type": "code",
   "execution_count": 33,
   "metadata": {
    "execution": {
     "iopub.execute_input": "2020-12-18T21:39:33.046365Z",
     "iopub.status.busy": "2020-12-18T21:39:33.045553Z",
     "iopub.status.idle": "2020-12-18T21:39:33.064641Z",
     "shell.execute_reply": "2020-12-18T21:39:33.065171Z"
    },
    "papermill": {
     "duration": 0.083736,
     "end_time": "2020-12-18T21:39:33.065368",
     "exception": false,
     "start_time": "2020-12-18T21:39:32.981632",
     "status": "completed"
    },
    "tags": []
   },
   "outputs": [
    {
     "data": {
      "text/html": [
       "<div>\n",
       "<style scoped>\n",
       "    .dataframe tbody tr th:only-of-type {\n",
       "        vertical-align: middle;\n",
       "    }\n",
       "\n",
       "    .dataframe tbody tr th {\n",
       "        vertical-align: top;\n",
       "    }\n",
       "\n",
       "    .dataframe thead th {\n",
       "        text-align: right;\n",
       "    }\n",
       "</style>\n",
       "<table border=\"1\" class=\"dataframe\">\n",
       "  <thead>\n",
       "    <tr style=\"text-align: right;\">\n",
       "      <th></th>\n",
       "      <th>DYRK1A_N</th>\n",
       "      <th>ITSN1_N</th>\n",
       "      <th>BDNF_N</th>\n",
       "      <th>NR1_N</th>\n",
       "      <th>NR2A_N</th>\n",
       "      <th>pAKT_N</th>\n",
       "      <th>pBRAF_N</th>\n",
       "      <th>pCAMKII_N</th>\n",
       "      <th>pCREB_N</th>\n",
       "      <th>pELK_N</th>\n",
       "      <th>...</th>\n",
       "      <th>pS6_N</th>\n",
       "      <th>pCFOS_N</th>\n",
       "      <th>SYP_N</th>\n",
       "      <th>H3AcK18_N</th>\n",
       "      <th>EGR1_N</th>\n",
       "      <th>H3MeK4_N</th>\n",
       "      <th>CaNA_N</th>\n",
       "      <th>Genotype</th>\n",
       "      <th>Treatment</th>\n",
       "      <th>Behavior</th>\n",
       "    </tr>\n",
       "  </thead>\n",
       "  <tbody>\n",
       "    <tr>\n",
       "      <th>0</th>\n",
       "      <td>0.503644</td>\n",
       "      <td>0.747193</td>\n",
       "      <td>0.430175</td>\n",
       "      <td>2.816329</td>\n",
       "      <td>5.990152</td>\n",
       "      <td>0.218830</td>\n",
       "      <td>0.177565</td>\n",
       "      <td>2.373744</td>\n",
       "      <td>0.232224</td>\n",
       "      <td>1.750936</td>\n",
       "      <td>...</td>\n",
       "      <td>0.106305</td>\n",
       "      <td>0.108336</td>\n",
       "      <td>0.427099</td>\n",
       "      <td>0.114783</td>\n",
       "      <td>0.131790</td>\n",
       "      <td>0.128186</td>\n",
       "      <td>1.675652</td>\n",
       "      <td>1.0</td>\n",
       "      <td>1.0</td>\n",
       "      <td>0.0</td>\n",
       "    </tr>\n",
       "    <tr>\n",
       "      <th>1</th>\n",
       "      <td>0.514617</td>\n",
       "      <td>0.689064</td>\n",
       "      <td>0.411770</td>\n",
       "      <td>2.789514</td>\n",
       "      <td>5.685038</td>\n",
       "      <td>0.211636</td>\n",
       "      <td>0.172817</td>\n",
       "      <td>2.292150</td>\n",
       "      <td>0.226972</td>\n",
       "      <td>1.596377</td>\n",
       "      <td>...</td>\n",
       "      <td>0.106592</td>\n",
       "      <td>0.104315</td>\n",
       "      <td>0.441581</td>\n",
       "      <td>0.111974</td>\n",
       "      <td>0.135103</td>\n",
       "      <td>0.131119</td>\n",
       "      <td>1.743610</td>\n",
       "      <td>1.0</td>\n",
       "      <td>1.0</td>\n",
       "      <td>0.0</td>\n",
       "    </tr>\n",
       "    <tr>\n",
       "      <th>2</th>\n",
       "      <td>0.509183</td>\n",
       "      <td>0.730247</td>\n",
       "      <td>0.418309</td>\n",
       "      <td>2.687201</td>\n",
       "      <td>5.622059</td>\n",
       "      <td>0.209011</td>\n",
       "      <td>0.175722</td>\n",
       "      <td>2.283337</td>\n",
       "      <td>0.230247</td>\n",
       "      <td>1.561316</td>\n",
       "      <td>...</td>\n",
       "      <td>0.108303</td>\n",
       "      <td>0.106219</td>\n",
       "      <td>0.435777</td>\n",
       "      <td>0.111883</td>\n",
       "      <td>0.133362</td>\n",
       "      <td>0.127431</td>\n",
       "      <td>1.926427</td>\n",
       "      <td>1.0</td>\n",
       "      <td>1.0</td>\n",
       "      <td>0.0</td>\n",
       "    </tr>\n",
       "    <tr>\n",
       "      <th>3</th>\n",
       "      <td>0.442107</td>\n",
       "      <td>0.617076</td>\n",
       "      <td>0.358626</td>\n",
       "      <td>2.466947</td>\n",
       "      <td>4.979503</td>\n",
       "      <td>0.222886</td>\n",
       "      <td>0.176463</td>\n",
       "      <td>2.152301</td>\n",
       "      <td>0.207004</td>\n",
       "      <td>1.595086</td>\n",
       "      <td>...</td>\n",
       "      <td>0.103184</td>\n",
       "      <td>0.111262</td>\n",
       "      <td>0.391691</td>\n",
       "      <td>0.130405</td>\n",
       "      <td>0.147444</td>\n",
       "      <td>0.146901</td>\n",
       "      <td>1.700563</td>\n",
       "      <td>1.0</td>\n",
       "      <td>1.0</td>\n",
       "      <td>0.0</td>\n",
       "    </tr>\n",
       "    <tr>\n",
       "      <th>4</th>\n",
       "      <td>0.434940</td>\n",
       "      <td>0.617430</td>\n",
       "      <td>0.358802</td>\n",
       "      <td>2.365785</td>\n",
       "      <td>4.718679</td>\n",
       "      <td>0.213106</td>\n",
       "      <td>0.173627</td>\n",
       "      <td>2.134014</td>\n",
       "      <td>0.192158</td>\n",
       "      <td>1.504230</td>\n",
       "      <td>...</td>\n",
       "      <td>0.104784</td>\n",
       "      <td>0.110694</td>\n",
       "      <td>0.434154</td>\n",
       "      <td>0.118481</td>\n",
       "      <td>0.140314</td>\n",
       "      <td>0.148380</td>\n",
       "      <td>1.839730</td>\n",
       "      <td>1.0</td>\n",
       "      <td>1.0</td>\n",
       "      <td>0.0</td>\n",
       "    </tr>\n",
       "  </tbody>\n",
       "</table>\n",
       "<p>5 rows × 80 columns</p>\n",
       "</div>"
      ],
      "text/plain": [
       "   DYRK1A_N   ITSN1_N    BDNF_N     NR1_N    NR2A_N    pAKT_N   pBRAF_N  \\\n",
       "0  0.503644  0.747193  0.430175  2.816329  5.990152  0.218830  0.177565   \n",
       "1  0.514617  0.689064  0.411770  2.789514  5.685038  0.211636  0.172817   \n",
       "2  0.509183  0.730247  0.418309  2.687201  5.622059  0.209011  0.175722   \n",
       "3  0.442107  0.617076  0.358626  2.466947  4.979503  0.222886  0.176463   \n",
       "4  0.434940  0.617430  0.358802  2.365785  4.718679  0.213106  0.173627   \n",
       "\n",
       "   pCAMKII_N   pCREB_N    pELK_N  ...     pS6_N   pCFOS_N     SYP_N  \\\n",
       "0   2.373744  0.232224  1.750936  ...  0.106305  0.108336  0.427099   \n",
       "1   2.292150  0.226972  1.596377  ...  0.106592  0.104315  0.441581   \n",
       "2   2.283337  0.230247  1.561316  ...  0.108303  0.106219  0.435777   \n",
       "3   2.152301  0.207004  1.595086  ...  0.103184  0.111262  0.391691   \n",
       "4   2.134014  0.192158  1.504230  ...  0.104784  0.110694  0.434154   \n",
       "\n",
       "   H3AcK18_N    EGR1_N  H3MeK4_N    CaNA_N  Genotype  Treatment  Behavior  \n",
       "0   0.114783  0.131790  0.128186  1.675652       1.0        1.0       0.0  \n",
       "1   0.111974  0.135103  0.131119  1.743610       1.0        1.0       0.0  \n",
       "2   0.111883  0.133362  0.127431  1.926427       1.0        1.0       0.0  \n",
       "3   0.130405  0.147444  0.146901  1.700563       1.0        1.0       0.0  \n",
       "4   0.118481  0.140314  0.148380  1.839730       1.0        1.0       0.0  \n",
       "\n",
       "[5 rows x 80 columns]"
      ]
     },
     "execution_count": 33,
     "metadata": {},
     "output_type": "execute_result"
    }
   ],
   "source": [
    "df.head()"
   ]
  },
  {
   "cell_type": "code",
   "execution_count": 34,
   "metadata": {
    "execution": {
     "iopub.execute_input": "2020-12-18T21:39:33.175045Z",
     "iopub.status.busy": "2020-12-18T21:39:33.174296Z",
     "iopub.status.idle": "2020-12-18T21:39:40.621753Z",
     "shell.execute_reply": "2020-12-18T21:39:40.621121Z"
    },
    "papermill": {
     "duration": 7.502892,
     "end_time": "2020-12-18T21:39:40.621892",
     "exception": false,
     "start_time": "2020-12-18T21:39:33.119000",
     "status": "completed"
    },
    "tags": []
   },
   "outputs": [],
   "source": [
    "from keras.utils import np_utils\n",
    "from sklearn.preprocessing import LabelEncoder\n",
    "\n",
    "\n",
    "# label encoder y\n",
    "encoder = LabelEncoder()\n",
    "encoder.fit(y)\n",
    "y = encoder.transform(y)\n",
    "y = np_utils.to_categorical(y)"
   ]
  },
  {
   "cell_type": "code",
   "execution_count": 35,
   "metadata": {
    "execution": {
     "iopub.execute_input": "2020-12-18T21:39:40.736032Z",
     "iopub.status.busy": "2020-12-18T21:39:40.735241Z",
     "iopub.status.idle": "2020-12-18T21:39:40.742040Z",
     "shell.execute_reply": "2020-12-18T21:39:40.741409Z"
    },
    "papermill": {
     "duration": 0.068352,
     "end_time": "2020-12-18T21:39:40.742190",
     "exception": false,
     "start_time": "2020-12-18T21:39:40.673838",
     "status": "completed"
    },
    "tags": []
   },
   "outputs": [
    {
     "name": "stdout",
     "output_type": "stream",
     "text": [
      "[[1. 0. 0. ... 0. 0. 0.]\n",
      " [1. 0. 0. ... 0. 0. 0.]\n",
      " [1. 0. 0. ... 0. 0. 0.]\n",
      " ...\n",
      " [0. 0. 0. ... 0. 0. 1.]\n",
      " [0. 0. 0. ... 0. 0. 1.]\n",
      " [0. 0. 0. ... 0. 0. 1.]]\n"
     ]
    },
    {
     "data": {
      "text/plain": [
       "(1080, 8)"
      ]
     },
     "execution_count": 35,
     "metadata": {},
     "output_type": "execute_result"
    }
   ],
   "source": [
    "print(y)\n",
    "\n",
    "y.shape"
   ]
  },
  {
   "cell_type": "code",
   "execution_count": 36,
   "metadata": {
    "execution": {
     "iopub.execute_input": "2020-12-18T21:39:40.851578Z",
     "iopub.status.busy": "2020-12-18T21:39:40.850888Z",
     "iopub.status.idle": "2020-12-18T21:39:40.855948Z",
     "shell.execute_reply": "2020-12-18T21:39:40.855235Z"
    },
    "papermill": {
     "duration": 0.062132,
     "end_time": "2020-12-18T21:39:40.856090",
     "exception": false,
     "start_time": "2020-12-18T21:39:40.793958",
     "status": "completed"
    },
    "tags": []
   },
   "outputs": [],
   "source": [
    "X = df\n",
    "X = np.array(X)"
   ]
  },
  {
   "cell_type": "markdown",
   "metadata": {
    "papermill": {
     "duration": 0.050195,
     "end_time": "2020-12-18T21:39:40.957021",
     "exception": false,
     "start_time": "2020-12-18T21:39:40.906826",
     "status": "completed"
    },
    "tags": []
   },
   "source": [
    "## Modelling\n",
    "\n",
    "\n",
    "\n",
    "## Artificial Neural Network with MLP"
   ]
  },
  {
   "cell_type": "code",
   "execution_count": 37,
   "metadata": {
    "execution": {
     "iopub.execute_input": "2020-12-18T21:39:41.070676Z",
     "iopub.status.busy": "2020-12-18T21:39:41.069449Z",
     "iopub.status.idle": "2020-12-18T21:39:42.407748Z",
     "shell.execute_reply": "2020-12-18T21:39:42.408581Z"
    },
    "papermill": {
     "duration": 1.400035,
     "end_time": "2020-12-18T21:39:42.408789",
     "exception": false,
     "start_time": "2020-12-18T21:39:41.008754",
     "status": "completed"
    },
    "tags": []
   },
   "outputs": [
    {
     "data": {
      "text/plain": [
       "MLPClassifier(random_state=0)"
      ]
     },
     "execution_count": 37,
     "metadata": {},
     "output_type": "execute_result"
    }
   ],
   "source": [
    "from sklearn.model_selection import GridSearchCV\n",
    "\n",
    "\n",
    "\n",
    "# Train-Test \n",
    "from sklearn.model_selection import train_test_split\n",
    "# shuffle and split training and test sets\n",
    "X_train, X_test, y_train, y_test = train_test_split(X, y, test_size=0.3,\n",
    "                                                    random_state=0)\n",
    "\n",
    "# Multi Layer Perceptron Artificial Neural Network\n",
    "from sklearn.neural_network import MLPClassifier \n",
    "\n",
    "# Setting up a primitive (non-validated) model\n",
    "mlpc = MLPClassifier(random_state = 0)# ANN model object created\n",
    "\n",
    "mlpc.fit(X_train, y_train) # ANN model object fit"
   ]
  },
  {
   "cell_type": "code",
   "execution_count": 38,
   "metadata": {
    "execution": {
     "iopub.execute_input": "2020-12-18T21:39:42.518505Z",
     "iopub.status.busy": "2020-12-18T21:39:42.517498Z",
     "iopub.status.idle": "2020-12-18T21:39:42.522370Z",
     "shell.execute_reply": "2020-12-18T21:39:42.521689Z"
    },
    "papermill": {
     "duration": 0.062567,
     "end_time": "2020-12-18T21:39:42.522493",
     "exception": false,
     "start_time": "2020-12-18T21:39:42.459926",
     "status": "completed"
    },
    "tags": []
   },
   "outputs": [],
   "source": [
    "# Untunned Scores of the Model\n",
    "\n",
    "y_pred=mlpc.predict(X_test)"
   ]
  },
  {
   "cell_type": "code",
   "execution_count": 39,
   "metadata": {
    "execution": {
     "iopub.execute_input": "2020-12-18T21:39:42.632093Z",
     "iopub.status.busy": "2020-12-18T21:39:42.631089Z",
     "iopub.status.idle": "2020-12-18T21:39:42.646886Z",
     "shell.execute_reply": "2020-12-18T21:39:42.646287Z"
    },
    "papermill": {
     "duration": 0.074287,
     "end_time": "2020-12-18T21:39:42.647027",
     "exception": false,
     "start_time": "2020-12-18T21:39:42.572740",
     "status": "completed"
    },
    "tags": []
   },
   "outputs": [
    {
     "name": "stdout",
     "output_type": "stream",
     "text": [
      "Accuracy: 0.9907407407407407\n",
      "f1_weighted: 0.9952873405254359\n"
     ]
    }
   ],
   "source": [
    "import sklearn.metrics as metrics\n",
    "\n",
    "# Accuracy\n",
    "\n",
    "print(\"Accuracy:\",metrics.accuracy_score(y_test,y_pred))\n",
    "\n",
    "# f1 score\n",
    "\n",
    "print(\"f1_weighted:\",metrics.f1_score(y_test, y_pred,average='weighted'))"
   ]
  },
  {
   "cell_type": "code",
   "execution_count": 40,
   "metadata": {
    "execution": {
     "iopub.execute_input": "2020-12-18T21:39:42.752002Z",
     "iopub.status.busy": "2020-12-18T21:39:42.751278Z",
     "iopub.status.idle": "2020-12-18T21:43:04.149749Z",
     "shell.execute_reply": "2020-12-18T21:43:04.150662Z"
    },
    "papermill": {
     "duration": 201.453033,
     "end_time": "2020-12-18T21:43:04.150895",
     "exception": false,
     "start_time": "2020-12-18T21:39:42.697862",
     "status": "completed"
    },
    "tags": []
   },
   "outputs": [
    {
     "name": "stdout",
     "output_type": "stream",
     "text": [
      "Fitting 5 folds for each of 54 candidates, totalling 270 fits\n",
      "The best parameters: {'activation': 'relu', 'alpha': 0.1, 'hidden_layer_sizes': (100, 100, 100), 'solver': 'lbfgs'}\n"
     ]
    }
   ],
   "source": [
    "# Cross Validation Process\n",
    "# Parameters for CV created in dictionary structure\n",
    "# INFORMATION ABOUT THE INPUTED PARAMETERS\n",
    "# alpha: float, default = 0.0001 L2 penalty (regularization term) parameter. (penalty parameter)\n",
    "   \n",
    "mlpc_params = {\"alpha\": [0.1, 0.01, 0.0001],\n",
    "              \"hidden_layer_sizes\": [(10,10,10),\n",
    "                                     (100,100,100),\n",
    "                                     (100,100),],\n",
    "              \"solver\" : [\"lbfgs\",\"adam\",\"sgd\"],\n",
    "              \"activation\": [\"relu\",\"logistic\"]}\n",
    "\n",
    "from sklearn.model_selection import GridSearchCV\n",
    "\n",
    "\n",
    "\n",
    "\n",
    "mlpc = MLPClassifier(random_state = 0) # ANN model object created\n",
    "\n",
    "# Model CV process \n",
    "mlpc_cv_model = GridSearchCV(mlpc, mlpc_params, \n",
    "                         cv = 5, # To make a 5-fold CV\n",
    "                         n_jobs = -1, # Number of jobs to be run in parallel (-1: means to use all processors)\n",
    "                         verbose = 2) # Controls the level of detail: higher means more messages gets value as integer.\n",
    "\n",
    "mlpc_cv_model.fit(X_train, y_train) \n",
    "\n",
    "\n",
    "# The best parameter obtained as a result of CV process\n",
    "\n",
    "print(\"The best parameters: \" + str(mlpc_cv_model.best_params_))"
   ]
  },
  {
   "cell_type": "code",
   "execution_count": 41,
   "metadata": {
    "execution": {
     "iopub.execute_input": "2020-12-18T21:43:04.274135Z",
     "iopub.status.busy": "2020-12-18T21:43:04.272860Z",
     "iopub.status.idle": "2020-12-18T21:43:09.238879Z",
     "shell.execute_reply": "2020-12-18T21:43:09.239631Z"
    },
    "papermill": {
     "duration": 5.029129,
     "end_time": "2020-12-18T21:43:09.239842",
     "exception": false,
     "start_time": "2020-12-18T21:43:04.210713",
     "status": "completed"
    },
    "tags": []
   },
   "outputs": [
    {
     "data": {
      "text/plain": [
       "MLPClassifier(alpha=0.1, hidden_layer_sizes=(100, 100, 100), random_state=0,\n",
       "              solver='lbfgs')"
      ]
     },
     "execution_count": 41,
     "metadata": {},
     "output_type": "execute_result"
    }
   ],
   "source": [
    "# Setting the Final Model with the best parameter\n",
    "\n",
    "mlpc_tuned = mlpc_cv_model.best_estimator_\n",
    "\n",
    "# Fitting Final Model\n",
    "mlpc_tuned.fit(X_train, y_train)"
   ]
  },
  {
   "cell_type": "code",
   "execution_count": 48,
   "metadata": {},
   "outputs": [],
   "source": [
    "from sklearn.metrics import accuracy_score\n",
    "import matplotlib.pyplot as plt\n",
    "def get_feature_importance(j, n):\n",
    "  s = accuracy_score(y_test, y_pred) # baseline score\n",
    "  total = 0.0\n",
    "  for i in range(n):\n",
    "    perm = np.random.permutation(range(X_test.shape[0]))\n",
    "    X_test_ = X_test.copy()\n",
    "    X_test_[:, j] = X_test[perm, j]\n",
    "    y_pred_ = mlpc_tuned.predict(X_test_)\n",
    "    s_ij = accuracy_score(y_test, y_pred_)\n",
    "    total += s_ij\n",
    "  return s - total / n"
   ]
  },
  {
   "cell_type": "code",
   "execution_count": 51,
   "metadata": {},
   "outputs": [
    {
     "data": {
      "image/png": "[encoded data removed]",
      "text/plain": [
       "<Figure size 1440x360 with 1 Axes>"
      ]
     },
     "metadata": {
      "needs_background": "light"
     },
     "output_type": "display_data"
    }
   ],
   "source": [
    "# Feature importances\n",
    "f = []\n",
    "for j in range(X_test.shape[1]):\n",
    "  f_j = get_feature_importance(j, 100)\n",
    "  f.append(f_j)\n",
    "# Plot\n",
    "\n",
    "plt.figure(figsize=(20, 5))\n",
    "plt.bar(range(X_test.shape[1]), f, color=\"r\", alpha=0.7)\n",
    "plt.xticks(ticks=range(X_test.shape[1]))\n",
    "plt.xlabel(\"Feature\")\n",
    "plt.ylabel(\"Importance\")\n",
    "plt.title(\"Feature importances (Mice expression)\")\n",
    "plt.show()"
   ]
  },
  {
   "cell_type": "markdown",
   "metadata": {},
   "source": [
    "From this plot we can say that the determiniton of class is highly predicted through the behaviour, \n",
    "genotype and treatment further we can say 7th (0-indexed) column is also playing its role in the predictions "
   ]
  },
  {
   "cell_type": "code",
   "execution_count": 44,
   "metadata": {
    "execution": {
     "iopub.execute_input": "2020-12-18T21:43:09.404481Z",
     "iopub.status.busy": "2020-12-18T21:43:09.403245Z",
     "iopub.status.idle": "2020-12-18T21:43:17.587010Z",
     "shell.execute_reply": "2020-12-18T21:43:17.587828Z"
    },
    "papermill": {
     "duration": 8.270058,
     "end_time": "2020-12-18T21:43:17.588033",
     "exception": false,
     "start_time": "2020-12-18T21:43:09.317975",
     "status": "completed"
    },
    "tags": []
   },
   "outputs": [
    {
     "name": "stdout",
     "output_type": "stream",
     "text": [
      "K-fold Cross Validation f1_weigted Results:  [1. 1. 1. 1. 1.]\n",
      "K-fold Cross Validation f1_weigted Results Mean:  1.0\n"
     ]
    }
   ],
   "source": [
    "# K-fold f1_weighted\n",
    "\n",
    "from sklearn.model_selection import KFold\n",
    "from sklearn.model_selection import cross_val_score\n",
    "\n",
    "# K fold\n",
    "kf = KFold(shuffle=True, n_splits=5) # To make a 5-fold CV\n",
    "\n",
    "cv_results_kfold = cross_val_score(mlpc_tuned, X_test, np.argmax(y_test, axis=1), cv=kf, scoring= 'f1_weighted')\n",
    "\n",
    "print(\"K-fold Cross Validation f1_weigted Results: \",cv_results_kfold)\n",
    "print(\"K-fold Cross Validation f1_weigted Results Mean: \",cv_results_kfold.mean())"
   ]
  },
  {
   "cell_type": "code",
   "execution_count": 45,
   "metadata": {
    "execution": {
     "iopub.execute_input": "2020-12-18T21:43:17.764932Z",
     "iopub.status.busy": "2020-12-18T21:43:17.763958Z",
     "iopub.status.idle": "2020-12-18T21:43:25.946481Z",
     "shell.execute_reply": "2020-12-18T21:43:25.945095Z"
    },
    "papermill": {
     "duration": 8.275426,
     "end_time": "2020-12-18T21:43:25.946733",
     "exception": false,
     "start_time": "2020-12-18T21:43:17.671307",
     "status": "completed"
    },
    "tags": []
   },
   "outputs": [
    {
     "name": "stdout",
     "output_type": "stream",
     "text": [
      "K-fold Cross Validation accuracy Results:  [1. 1. 1. 1. 1.]\n",
      "K-fold Cross Validation accuracy Results Mean:  1.0\n"
     ]
    }
   ],
   "source": [
    "# K-fold accuracy\n",
    "\n",
    "from sklearn.model_selection import KFold\n",
    "from sklearn.model_selection import cross_val_score\n",
    "\n",
    "# K fold\n",
    "kf = KFold(shuffle=True, n_splits=5) # To make a 5-fold CV\n",
    "\n",
    "cv_results_kfold = cross_val_score(mlpc_tuned, X_test, np.argmax(y_test, axis=1), cv=kf, scoring= 'accuracy')\n",
    "\n",
    "print(\"K-fold Cross Validation accuracy Results: \",cv_results_kfold)\n",
    "print(\"K-fold Cross Validation accuracy Results Mean: \",cv_results_kfold.mean())"
   ]
  },
  {
   "cell_type": "code",
   "execution_count": 46,
   "metadata": {
    "execution": {
     "iopub.execute_input": "2020-12-18T21:43:26.065561Z",
     "iopub.status.busy": "2020-12-18T21:43:26.064408Z",
     "iopub.status.idle": "2020-12-18T21:43:26.070365Z",
     "shell.execute_reply": "2020-12-18T21:43:26.069694Z"
    },
    "papermill": {
     "duration": 0.067557,
     "end_time": "2020-12-18T21:43:26.070504",
     "exception": false,
     "start_time": "2020-12-18T21:43:26.002947",
     "status": "completed"
    },
    "tags": []
   },
   "outputs": [],
   "source": [
    "# Tune Model Prediction\n",
    "# Prediction process of Final Model over test set\n",
    "y_pred = mlpc_tuned.predict(X_test)"
   ]
  },
  {
   "cell_type": "code",
   "execution_count": 47,
   "metadata": {
    "execution": {
     "iopub.execute_input": "2020-12-18T21:43:26.189864Z",
     "iopub.status.busy": "2020-12-18T21:43:26.188719Z",
     "iopub.status.idle": "2020-12-18T21:43:26.196467Z",
     "shell.execute_reply": "2020-12-18T21:43:26.195774Z"
    },
    "papermill": {
     "duration": 0.070599,
     "end_time": "2020-12-18T21:43:26.196595",
     "exception": false,
     "start_time": "2020-12-18T21:43:26.125996",
     "status": "completed"
    },
    "tags": []
   },
   "outputs": [
    {
     "name": "stdout",
     "output_type": "stream",
     "text": [
      "f1_weighted: 1.0\n",
      "accuracy: 1.0\n"
     ]
    }
   ],
   "source": [
    "# %% f1 score\n",
    "import sklearn.metrics as metrics\n",
    "print(\"f1_weighted:\",metrics.f1_score(np.argmax(y_test, axis=1), np.argmax(y_pred, axis=1),average='weighted'))\n",
    "\n",
    "# %% Accuracy\n",
    "\n",
    "print(\"accuracy:\",metrics.accuracy_score(np.argmax(y_test, axis=1), np.argmax(y_pred, axis=1)))"
   ]
  },
  {
   "cell_type": "code",
   "execution_count": 48,
   "metadata": {
    "execution": {
     "iopub.execute_input": "2020-12-18T21:43:26.323492Z",
     "iopub.status.busy": "2020-12-18T21:43:26.322774Z",
     "iopub.status.idle": "2020-12-18T21:43:26.335298Z",
     "shell.execute_reply": "2020-12-18T21:43:26.334273Z"
    },
    "papermill": {
     "duration": 0.073651,
     "end_time": "2020-12-18T21:43:26.335662",
     "exception": false,
     "start_time": "2020-12-18T21:43:26.262011",
     "status": "completed"
    },
    "tags": []
   },
   "outputs": [
    {
     "name": "stdout",
     "output_type": "stream",
     "text": [
      "              precision    recall  f1-score   support\n",
      "\n",
      "           0       1.00      1.00      1.00        37\n",
      "           1       1.00      1.00      1.00        39\n",
      "           2       1.00      1.00      1.00        43\n",
      "           3       1.00      1.00      1.00        44\n",
      "           4       1.00      1.00      1.00        50\n",
      "           5       1.00      1.00      1.00        34\n",
      "           6       1.00      1.00      1.00        35\n",
      "           7       1.00      1.00      1.00        42\n",
      "\n",
      "    accuracy                           1.00       324\n",
      "   macro avg       1.00      1.00      1.00       324\n",
      "weighted avg       1.00      1.00      1.00       324\n",
      "\n"
     ]
    }
   ],
   "source": [
    "#%% Confusion Matrix and Classification Report\n",
    "from sklearn.metrics import confusion_matrix, classification_report \n",
    "\n",
    "# Classification Report\n",
    "model_report = classification_report(np.argmax(y_test, axis=1), np.argmax(y_pred, axis=1))\n",
    "print(model_report)"
   ]
  },
  {
   "cell_type": "code",
   "execution_count": 49,
   "metadata": {
    "execution": {
     "iopub.execute_input": "2020-12-18T21:43:26.456586Z",
     "iopub.status.busy": "2020-12-18T21:43:26.455818Z",
     "iopub.status.idle": "2020-12-18T21:43:26.463834Z",
     "shell.execute_reply": "2020-12-18T21:43:26.462910Z"
    },
    "papermill": {
     "duration": 0.069668,
     "end_time": "2020-12-18T21:43:26.463980",
     "exception": false,
     "start_time": "2020-12-18T21:43:26.394312",
     "status": "completed"
    },
    "tags": []
   },
   "outputs": [
    {
     "name": "stdout",
     "output_type": "stream",
     "text": [
      "[[37  0  0  0  0  0  0  0]\n",
      " [ 0 39  0  0  0  0  0  0]\n",
      " [ 0  0 43  0  0  0  0  0]\n",
      " [ 0  0  0 44  0  0  0  0]\n",
      " [ 0  0  0  0 50  0  0  0]\n",
      " [ 0  0  0  0  0 34  0  0]\n",
      " [ 0  0  0  0  0  0 35  0]\n",
      " [ 0  0  0  0  0  0  0 42]]\n"
     ]
    }
   ],
   "source": [
    "# Confusion Matrix\n",
    "# multilabel-indicator is not supported so np.argmax should be used!\n",
    "model_conf = confusion_matrix(np.argmax(y_test, axis=1), np.argmax(y_pred, axis=1))\n",
    "print(model_conf)"
   ]
  },
  {
   "cell_type": "code",
   "execution_count": 52,
   "metadata": {
    "execution": {
     "iopub.execute_input": "2020-12-18T21:43:26.586386Z",
     "iopub.status.busy": "2020-12-18T21:43:26.584539Z",
     "iopub.status.idle": "2020-12-18T21:43:26.604299Z",
     "shell.execute_reply": "2020-12-18T21:43:26.603563Z"
    },
    "papermill": {
     "duration": 0.08406,
     "end_time": "2020-12-18T21:43:26.604437",
     "exception": false,
     "start_time": "2020-12-18T21:43:26.520377",
     "status": "completed"
    },
    "tags": []
   },
   "outputs": [],
   "source": [
    "#%% ROC-AUC Curve\n",
    "\n",
    "y_score = mlpc_tuned.predict_proba(X_test)\n",
    "\n",
    "from scipy import interp\n",
    "import matplotlib.pyplot as plt\n",
    "from sklearn.metrics import roc_curve, auc\n",
    "# Learn to predict each class against the other\n",
    "\n",
    "\n",
    "n_classes = 8 # number of class\n",
    "\n",
    "\n",
    "\n",
    "\n",
    "# Compute ROC curve and ROC area for each class\n",
    "fpr = dict()\n",
    "tpr = dict()\n",
    "roc_auc = dict()\n",
    "for i in range(n_classes):\n",
    "    fpr[i], tpr[i], _ = roc_curve(y_test[:, i], y_score[:, i])\n",
    "    roc_auc[i] = auc(fpr[i], tpr[i])\n",
    "\n",
    "# Compute micro-average ROC curve and ROC area\n",
    "fpr[\"micro\"], tpr[\"micro\"], _ = roc_curve(y_test.ravel(), y_score.ravel())\n",
    "roc_auc[\"micro\"] = auc(fpr[\"micro\"], tpr[\"micro\"])"
   ]
  },
  {
   "cell_type": "code",
   "execution_count": 53,
   "metadata": {},
   "outputs": [
    {
     "data": {
      "text/plain": [
       "{0: 1.0, 1: 1.0, 2: 1.0, 3: 1.0, 4: 1.0, 5: 1.0, 6: 1.0, 7: 1.0, 'micro': 1.0}"
      ]
     },
     "execution_count": 53,
     "metadata": {},
     "output_type": "execute_result"
    }
   ],
   "source": [
    "roc_auc"
   ]
  },
  {
   "cell_type": "code",
   "execution_count": 51,
   "metadata": {
    "execution": {
     "iopub.execute_input": "2020-12-18T21:43:26.723472Z",
     "iopub.status.busy": "2020-12-18T21:43:26.722731Z",
     "iopub.status.idle": "2020-12-18T21:43:26.959821Z",
     "shell.execute_reply": "2020-12-18T21:43:26.959069Z"
    },
    "papermill": {
     "duration": 0.299091,
     "end_time": "2020-12-18T21:43:26.959955",
     "exception": false,
     "start_time": "2020-12-18T21:43:26.660864",
     "status": "completed"
    },
    "tags": []
   },
   "outputs": [
    {
     "data": {
      "image/png": "[encoded data removed]",
      "text/plain": [
       "<Figure size 432x288 with 1 Axes>"
      ]
     },
     "metadata": {
      "needs_background": "light"
     },
     "output_type": "display_data"
    }
   ],
   "source": [
    "# The process of drawing a roc-auc curve belonging to a specific class\n",
    "\n",
    "plt.figure()\n",
    "lw = 2 # line_width\n",
    "plt.plot(fpr[3], tpr[3], color='darkorange',\n",
    "         lw=lw, label='ROC curve (area = %0.2f)' % roc_auc[3]) # Drawing Curve according to 2. class \n",
    "plt.plot([0, 1], [0, 1], color='navy', lw=lw, linestyle='--')\n",
    "plt.xlim([0.0, 1.0])\n",
    "plt.ylim([0.0, 1.05])\n",
    "plt.xlabel('False Positive Rate')\n",
    "plt.ylabel('True Positive Rate')\n",
    "plt.title('ROC Eğrisi')\n",
    "plt.legend(loc=\"lower right\")\n",
    "plt.show()"
   ]
  },
  {
   "cell_type": "code",
   "execution_count": 54,
   "metadata": {
    "execution": {
     "iopub.execute_input": "2020-12-18T21:43:27.094329Z",
     "iopub.status.busy": "2020-12-18T21:43:27.084112Z",
     "iopub.status.idle": "2020-12-18T21:43:27.368449Z",
     "shell.execute_reply": "2020-12-18T21:43:27.367713Z"
    },
    "papermill": {
     "duration": 0.352074,
     "end_time": "2020-12-18T21:43:27.368586",
     "exception": false,
     "start_time": "2020-12-18T21:43:27.016512",
     "status": "completed"
    },
    "tags": []
   },
   "outputs": [
    {
     "data": {
      "image/png": "[encoded data removed]",
      "text/plain": [
       "<Figure size 432x288 with 1 Axes>"
      ]
     },
     "metadata": {
      "needs_background": "light"
     },
     "output_type": "display_data"
    }
   ],
   "source": [
    "# Process of plotting roc-auc curve belonging to all classes.\n",
    "\n",
    "from itertools import cycle\n",
    "\n",
    "# First aggregate all false positive rates\n",
    "all_fpr = np.unique(np.concatenate([fpr[i] for i in range(n_classes)]))\n",
    "\n",
    "# Then interpolate all ROC curves at this points\n",
    "mean_tpr = np.zeros_like(all_fpr)\n",
    "for i in range(n_classes):\n",
    "    mean_tpr += interp(all_fpr, fpr[i], tpr[i])\n",
    "\n",
    "# Finally average it and compute AUC\n",
    "mean_tpr /= n_classes\n",
    "\n",
    "fpr[\"macro\"] = all_fpr\n",
    "tpr[\"macro\"] = mean_tpr\n",
    "roc_auc[\"macro\"] = auc(fpr[\"macro\"], tpr[\"macro\"])\n",
    "\n",
    "# Plot all ROC curves\n",
    "plt.figure()\n",
    "plt.plot(fpr[\"micro\"], tpr[\"micro\"],\n",
    "         label='micro-average ROC curve (area = {0:0.2f})'\n",
    "               ''.format(roc_auc[\"micro\"]),\n",
    "         color='deeppink', linestyle=':', linewidth=4)\n",
    "\n",
    "plt.plot(fpr[\"macro\"], tpr[\"macro\"],\n",
    "         label='macro-average ROC curve (area = {0:0.2f})'\n",
    "               ''.format(roc_auc[\"macro\"]),\n",
    "         color='navy', linestyle=':', linewidth=4)\n",
    "\n",
    "colors = cycle(['aqua', 'darkorange', 'cornflowerblue'])\n",
    "for i, color in zip(range(n_classes), colors):\n",
    "    plt.plot(fpr[i], tpr[i], color=color, lw=lw,\n",
    "             label='ROC curve of class {0} (area = {1:0.2f})'\n",
    "             ''.format(i, roc_auc[i]))\n",
    "\n",
    "plt.plot([0, 1], [0, 1], 'k--', lw=lw)\n",
    "plt.xlim([0.0, 1.0])\n",
    "plt.ylim([0.0, 1.05])\n",
    "plt.xlabel('False Positive Rate')\n",
    "plt.ylabel('True Positive Rate')\n",
    "plt.title('Extending the ROC Curve to Multi-Class')\n",
    "plt.legend(loc=\"lower right\")\n",
    "plt.show()"
   ]
  }
 ],
 "metadata": {
  "kernelspec": {
   "display_name": "Python 3 (ipykernel)",
   "language": "python",
   "name": "python3"
  },
  "language_info": {
   "codemirror_mode": {
    "name": "ipython",
    "version": 3
   },
   "file_extension": ".py",
   "mimetype": "text/x-python",
   "name": "python",
   "nbconvert_exporter": "python",
   "pygments_lexer": "ipython3",
   "version": "3.8.0"
  },
  "papermill": {
   "duration": 258.257414,
   "end_time": "2020-12-18T21:43:27.780749",
   "environment_variables": {},
   "exception": null,
   "input_path": "__notebook__.ipynb",
   "output_path": "__notebook__.ipynb",
   "parameters": {},
   "start_time": "2020-12-18T21:39:09.523335",
   "version": "2.1.0"
  }
 },
 "nbformat": 4,
 "nbformat_minor": 4
}
